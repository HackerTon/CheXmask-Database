{
 "cells": [
  {
   "cell_type": "code",
   "execution_count": null,
   "metadata": {},
   "outputs": [],
   "source": [
    "import pandas as pd \n",
    "from medpy.metric import dc, hd, hd95\n",
    "import numpy as np\n",
    "\n",
    "physician_annotations = \"martina_annotations.csv\"\n",
    "df = pd.read_csv(physician_annotations)\n",
    "datasets = df[\"Dataset\"].unique()\n",
    "\n",
    "ground_truth = np.zeros([180, 240])\n",
    "pred = np.zeros([180, 240])\n",
    "    \n",
    "pos = 0 \n",
    "\n",
    "for dataset in datasets:\n",
    "    annotations = df[df[\"Dataset\"] == dataset]\n",
    "    segmentations = pd.read_csv(\"Subsets/\" + dataset + \".csv\")\n",
    "    column_id = segmentations.columns[0]\n",
    "    segmentations = segmentations.rename(columns={column_id: \"ImageID\"})\n",
    "    \n",
    "    images = annotations.ImageID.unique()\n",
    "    \n",
    "    for image in images:\n",
    "        pred_row = segmentations[segmentations[\"ImageID\"] == image]\n",
    "        gt_row = annotations[annotations[\"ImageID\"] == image]\n",
    "        \n",
    "        GT_Landmarks = np.array(eval(gt_row[\"Landmarks\"].values[0])).astype(np.float32).reshape(-1)\n",
    "        PRED_Landmarks = np.array(eval(pred_row[\"Landmarks\"].values[0])).astype(np.float32).reshape(-1)\n",
    "        \n",
    "        ground_truth[pos, :] = GT_Landmarks\n",
    "        pred[pos, :] = PRED_Landmarks\n",
    "        \n",
    "        pos += 1"
   ]
  },
  {
   "cell_type": "code",
   "execution_count": null,
   "metadata": {},
   "outputs": [],
   "source": [
    "import seaborn as sns\n",
    "import numpy as np\n",
    "import matplotlib.pyplot as plt\n",
    "\n",
    "# Average shape\n",
    "avg_landmarks = np.mean(ground_truth, axis=0).reshape(-1, 2)\n",
    "mse_per_landmark = np.mean((ground_truth - pred)**2, axis=0)\n",
    "mse_per_landmark = mse_per_landmark.reshape(-1, 2)\n",
    "mse_per_landmark = np.mean(mse_per_landmark, axis=1)\n",
    "\n",
    "mse_per_landmark = np.log(mse_per_landmark)\n",
    "\n",
    "# Create a sizes array to use in the scatterplot\n",
    "sizes = np.zeros(len(mse_per_landmark))\n",
    "# increase the size of the points according to the MSE, but go linearly from 0 to 1\n",
    "sizes = (mse_per_landmark - np.min(mse_per_landmark)) / (np.max(mse_per_landmark) - np.min(mse_per_landmark)) + 0.001\n",
    "\n",
    "# increase the size of the points according to the MSE\n",
    "\n",
    "plt.figure(figsize=(20, 10))\n",
    "scatter = plt.scatter(avg_landmarks[:, 0], avg_landmarks[:, 1], c=mse_per_landmark, cmap='plasma', s = 100 * sizes)\n",
    "\n",
    "plt.xlim(0, 1024)\n",
    "plt.ylim(0, 1024)\n",
    "plt.axis(\"off\")\n",
    "plt.gca().invert_yaxis()\n",
    "\n",
    "# aspect ratio\n",
    "plt.gca().set_aspect('equal', adjustable='box')\n",
    "\n",
    "plt.title(\"Averaged landmark mean-squared error\", fontsize=20)\n",
    "\n",
    "plt.colorbar(scatter, orientation='vertical')\n",
    "plt.savefig(\"mse_per_landmark.pdf\", dpi=300)\n",
    "plt.show()\n"
   ]
  }
 ],
 "metadata": {
  "kernelspec": {
   "display_name": "Python 3.9.7 ('torch')",
   "language": "python",
   "name": "python3"
  },
  "language_info": {
   "codemirror_mode": {
    "name": "ipython",
    "version": 3
   },
   "file_extension": ".py",
   "mimetype": "text/x-python",
   "name": "python",
   "nbconvert_exporter": "python",
   "pygments_lexer": "ipython3",
   "version": "3.9.7"
  },
  "orig_nbformat": 4,
  "vscode": {
   "interpreter": {
    "hash": "008ca0c0fd8ce61c4c92cb3c4dc820ff7c83e77bbaec962fd21185207af3179f"
   }
  }
 },
 "nbformat": 4,
 "nbformat_minor": 2
}
